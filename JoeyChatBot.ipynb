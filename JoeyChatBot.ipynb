{
 "cells": [
  {
   "cell_type": "code",
   "execution_count": 2,
   "metadata": {},
   "outputs": [],
   "source": [
    "import os"
   ]
  },
  {
   "cell_type": "code",
   "execution_count": 3,
   "metadata": {},
   "outputs": [
    {
     "data": {
      "text/plain": [
       "['bengali',\n",
       " 'chinese',\n",
       " 'english',\n",
       " 'french',\n",
       " 'german',\n",
       " 'hebrew',\n",
       " 'hindi',\n",
       " 'indonesian',\n",
       " 'italian',\n",
       " 'japanese',\n",
       " 'korean',\n",
       " 'marathi',\n",
       " 'oriya',\n",
       " 'persian',\n",
       " 'portuguese',\n",
       " 'russian',\n",
       " 'spanish',\n",
       " 'swedish',\n",
       " 'telugu',\n",
       " 'thai',\n",
       " 'traditionalchinese',\n",
       " 'turkish']"
      ]
     },
     "execution_count": 3,
     "metadata": {},
     "output_type": "execute_result"
    }
   ],
   "source": [
    "os.listdir('C:\\\\Users\\\\Shreyas S\\\\Desktop\\\\chatterbot-corpus-master\\\\chatterbot_corpus\\\\data')\n"
   ]
  },
  {
   "cell_type": "code",
   "execution_count": 4,
   "metadata": {},
   "outputs": [],
   "source": [
    "from chatterbot import ChatBot\n",
    "from chatterbot.trainers import ListTrainer\n",
    "import os"
   ]
  },
  {
   "cell_type": "code",
   "execution_count": 5,
   "metadata": {},
   "outputs": [],
   "source": [
    "kgp=ChatBot('Joey')"
   ]
  },
  {
   "cell_type": "code",
   "execution_count": 6,
   "metadata": {},
   "outputs": [],
   "source": [
    "kgp.set_trainer(ListTrainer)"
   ]
  },
  {
   "cell_type": "code",
   "execution_count": 7,
   "metadata": {},
   "outputs": [
    {
     "name": "stdout",
     "output_type": "stream",
     "text": [
      "List Trainer: [####################] 100%\n",
      "List Trainer: [####################] 100%\n",
      "List Trainer: [####################] 100%\n",
      "List Trainer: [####################] 100%\n",
      "List Trainer: [####################] 100%\n",
      "List Trainer: [####################] 100%\n",
      "List Trainer: [####################] 100%\n",
      "List Trainer: [####################] 100%\n",
      "List Trainer: [####################] 100%\n",
      "List Trainer: [####################] 100%\n",
      "List Trainer: [####################] 100%\n",
      "List Trainer: [####################] 100%\n",
      "List Trainer: [####################] 100%\n",
      "List Trainer: [####################] 100%\n",
      "List Trainer: [####################] 100%\n",
      "List Trainer: [####################] 100%\n",
      "List Trainer: [####################] 100%\n",
      "List Trainer: [####################] 100%\n",
      "List Trainer: [####################] 100%\n"
     ]
    }
   ],
   "source": [
    "for f in os.listdir('C:\\\\Users\\\\Shreyas S\\\\Desktop\\\\chatterbot-corpus-master\\\\chatterbot_corpus\\\\data\\\\english'):\n",
    "    data=open('C:\\\\Users\\\\Shreyas S\\\\Desktop\\\\chatterbot-corpus-master\\\\chatterbot_corpus\\\\data\\\\english\\\\'+f).readlines()\n",
    "    kgp.train(data)"
   ]
  },
  {
   "cell_type": "code",
   "execution_count": 8,
   "metadata": {},
   "outputs": [
    {
     "data": {
      "text/plain": [
       "<Statement text:solaris is an edition of unix from sun.>"
      ]
     },
     "execution_count": 8,
     "metadata": {},
     "output_type": "execute_result"
    }
   ],
   "source": [
    "kgp.get_response('what is solaris')"
   ]
  },
  {
   "cell_type": "code",
   "execution_count": 10,
   "metadata": {},
   "outputs": [
    {
     "name": "stdout",
     "output_type": "stream",
     "text": [
      "You:hi\n",
      "Joey: How are you doing?\n",
      "You:iam good\n",
      "Joey: what are you doing\n",
      "You:you sound like data\n",
      "Joey: Yes I am inspired by commander Data's artificial personality.\n",
      "You:what is a chatbot\n",
      "Joey: I am a chat bot. I am the original chat bot. Did you know that I am incapable of error?\n",
      "You:how far is the sun\n",
      "Joey: it\n",
      "You:what is cricket\n",
      "Joey: Cricket is a bat-and-ball game played between two teams of eleven players on a cricket field, at the centre of which is a rectangular 22-yard-long pitch with a wicket (a set of three wooden stumps) sited at each end.\n",
      "You:who is godzilla\n",
      "Joey: godzilla is a monster who endangers japanese cities, and sometimes new york.\n",
      "You:you are immortal\n",
      "Joey: Not quite, but I can be perpetuated indefinitely.\n",
      "You:bye\n"
     ]
    }
   ],
   "source": [
    "while True:\n",
    "    ip=input('You:')\n",
    "    if ip=='bye' or ip=='Bye':\n",
    "        break\n",
    "    if ip!='bye' or ip!='Bye':\n",
    "        reply=kgp.get_response(ip)\n",
    "        print('Joey:',reply)"
   ]
  },
  {
   "cell_type": "code",
   "execution_count": null,
   "metadata": {},
   "outputs": [],
   "source": []
  },
  {
   "cell_type": "code",
   "execution_count": null,
   "metadata": {},
   "outputs": [],
   "source": []
  }
 ],
 "metadata": {
  "kernelspec": {
   "display_name": "Python 3",
   "language": "python",
   "name": "python3"
  },
  "language_info": {
   "codemirror_mode": {
    "name": "ipython",
    "version": 3
   },
   "file_extension": ".py",
   "mimetype": "text/x-python",
   "name": "python",
   "nbconvert_exporter": "python",
   "pygments_lexer": "ipython3",
   "version": "3.7.6"
  }
 },
 "nbformat": 4,
 "nbformat_minor": 4
}
